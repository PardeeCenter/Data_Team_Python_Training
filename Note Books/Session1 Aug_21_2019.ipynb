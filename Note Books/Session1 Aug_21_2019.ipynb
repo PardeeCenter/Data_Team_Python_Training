{
 "cells": [
  {
   "cell_type": "markdown",
   "metadata": {},
   "source": [
    "<img src=\"https://pardee.du.edu/sites/default/files/PardeeCenterLogo_finalnew.png\" />\n",
    "<p style=\"text-align: center;\">yutang.xiong@du.edu </p> "
   ]
  },
  {
   "cell_type": "markdown",
   "metadata": {},
   "source": [
    "# Load Packages"
   ]
  },
  {
   "cell_type": "code",
   "execution_count": 194,
   "metadata": {},
   "outputs": [],
   "source": [
    "## Packages you will need to download and install\n",
    "import pandas as pd\n",
    "import numpy as np\n",
    "## Default ones that come with Python\n",
    "import re\n",
    "import os\n",
    "import datetime"
   ]
  },
  {
   "cell_type": "markdown",
   "metadata": {},
   "source": [
    "# Data Type/Structure in Python\n",
    "### Basic Type: String, Integer, Float, Boolean\n",
    "- Sometimes they are convertable\n",
    "- Sometimes you can combine them\n",
    "- Mathematical/Logical operations"
   ]
  },
  {
   "cell_type": "code",
   "execution_count": 43,
   "metadata": {},
   "outputs": [
    {
     "name": "stdout",
     "output_type": "stream",
     "text": [
      "1 <class 'int'> ; 1 <class 'str'> ; 1.0 <class 'float'> ; True <class 'bool'>\n"
     ]
    }
   ],
   "source": [
    "print(1,type(1),\";\",\n",
    "      \"1\",type(\"1\"),\";\",\n",
    "      1.0,type(1.0),\";\",\n",
    "      True,type(True))"
   ]
  },
  {
   "cell_type": "code",
   "execution_count": 61,
   "metadata": {},
   "outputs": [
    {
     "name": "stdout",
     "output_type": "stream",
     "text": [
      "2 2.0 boa aaaaa True False True\n"
     ]
    }
   ],
   "source": [
    "print(1+True, 1+1.0, \"b\"+\"oa\", \"a\"*5, \"a\"<\"g\", 3<2.5, 0==False)"
   ]
  },
  {
   "cell_type": "markdown",
   "metadata": {},
   "source": [
    "### Basic Structure: Tuple, List, Set, Dictionary\n",
    "- They are all iterable -> convertable\n",
    "- Concept of \"Copy\" & \"Deep Copy\" - \"Mutable\" & \"Immutable\"\n",
    "- List can be sorted which means elements have assigned positions\n",
    "- keys of dict & elements in the set are unique & unordered"
   ]
  },
  {
   "cell_type": "code",
   "execution_count": 52,
   "metadata": {},
   "outputs": [
    {
     "name": "stdout",
     "output_type": "stream",
     "text": [
      "(1, 2) <class 'tuple'> ; [1, 2] <class 'list'> ; {1, 2} <class 'set'> ; {1: 2} <class 'dict'>\n"
     ]
    }
   ],
   "source": [
    "print((1,2),type((1,2)),\";\",\n",
    "      [1,2],type([1,2]),\";\",\n",
    "      {1,2},type({1,2}),\";\",\n",
    "      {1:2},type({1:2}))"
   ]
  },
  {
   "cell_type": "code",
   "execution_count": 62,
   "metadata": {},
   "outputs": [
    {
     "name": "stdout",
     "output_type": "stream",
     "text": [
      "{1, 2} [1, 2] (1, 2)\n"
     ]
    }
   ],
   "source": [
    "print(set([1,2]), list({1,2}), tuple({1,2}))"
   ]
  },
  {
   "cell_type": "code",
   "execution_count": 72,
   "metadata": {},
   "outputs": [
    {
     "name": "stdout",
     "output_type": "stream",
     "text": [
      "[1, 2, 3, 4] [1, 2, 3, 4]\n",
      "[1, 2, 3, 4, 5] [1, 2, 3, 4, 5]\n",
      "[1, 2, 3, 4, 5, 5] [1, 2, 3, 4, 5, 5]\n",
      "--------------------------------------------------\n",
      "[1, 2, 3, 4] [1, 2, 3, 4]\n",
      "[1, 2, 3, 4] [1, 2, 3, 4, 5]\n",
      "--------------------------------------------------\n",
      "[1, 2, 3, 4] [1, 2, 3, 4]\n",
      "[1, 2, 3, 4] [1, 2, 3, 4, 5]\n"
     ]
    }
   ],
   "source": [
    "a=[1,2,3,4]\n",
    "b=a\n",
    "print(a,b)\n",
    "b.append(5)\n",
    "print(a,b)\n",
    "a.append(5)\n",
    "print(a,b)\n",
    "\n",
    "# Use deepcopy function to avoid this \n",
    "print(\"-\"*50)\n",
    "import copy\n",
    "a=[1,2,3,4]\n",
    "b=copy.deepcopy(a)\n",
    "print(a,b)\n",
    "b.append(5)\n",
    "print(a,b)\n",
    "\n",
    "# An alternative way\n",
    "print(\"-\"*50)\n",
    "a=[1,2,3,4]\n",
    "b=list(a)\n",
    "print(a,b)\n",
    "b.append(5)\n",
    "print(a,b)"
   ]
  },
  {
   "cell_type": "code",
   "execution_count": 66,
   "metadata": {},
   "outputs": [
    {
     "name": "stdout",
     "output_type": "stream",
     "text": [
      "{1, 2} [1, 2, 2]\n"
     ]
    }
   ],
   "source": [
    "print(set([1,2,2]),[1,2,2])"
   ]
  },
  {
   "cell_type": "code",
   "execution_count": 12,
   "metadata": {},
   "outputs": [
    {
     "name": "stdout",
     "output_type": "stream",
     "text": [
      "5\n",
      "3\n",
      "6\n",
      "----------------\n",
      "3\n",
      "5\n",
      "6\n"
     ]
    }
   ],
   "source": [
    "test_list=[5,3,6]\n",
    "for i in test_list:\n",
    "    print(i)\n",
    "print(\"----------------\")\n",
    "test_list.sort() # or test_list.sort(reverse=True) to get items from large to small\n",
    "for i in test_list:\n",
    "    print(i)"
   ]
  },
  {
   "cell_type": "markdown",
   "metadata": {},
   "source": [
    "### Advanced \n",
    "- Linked list, Heap, Union (We won't cover here)\n",
    "- Array, Series, DataFrame (from Numpy & Pandas)"
   ]
  },
  {
   "cell_type": "code",
   "execution_count": 94,
   "metadata": {},
   "outputs": [
    {
     "data": {
      "text/plain": [
       "array([1, 2, 2, 4, 5])"
      ]
     },
     "execution_count": 94,
     "metadata": {},
     "output_type": "execute_result"
    }
   ],
   "source": [
    "test_array=np.array([1,2,2,4,5])\n",
    "test_array"
   ]
  },
  {
   "cell_type": "code",
   "execution_count": 95,
   "metadata": {},
   "outputs": [
    {
     "data": {
      "text/plain": [
       "0    1\n",
       "1    2\n",
       "2    2\n",
       "3    4\n",
       "4    5\n",
       "dtype: int64"
      ]
     },
     "execution_count": 95,
     "metadata": {},
     "output_type": "execute_result"
    }
   ],
   "source": [
    "test_series=pd.Series([1,2,2,4,5])\n",
    "test_series"
   ]
  },
  {
   "cell_type": "code",
   "execution_count": 96,
   "metadata": {},
   "outputs": [
    {
     "data": {
      "text/html": [
       "<div>\n",
       "<style scoped>\n",
       "    .dataframe tbody tr th:only-of-type {\n",
       "        vertical-align: middle;\n",
       "    }\n",
       "\n",
       "    .dataframe tbody tr th {\n",
       "        vertical-align: top;\n",
       "    }\n",
       "\n",
       "    .dataframe thead th {\n",
       "        text-align: right;\n",
       "    }\n",
       "</style>\n",
       "<table border=\"1\" class=\"dataframe\">\n",
       "  <thead>\n",
       "    <tr style=\"text-align: right;\">\n",
       "      <th></th>\n",
       "      <th>Country</th>\n",
       "      <th>Year</th>\n",
       "    </tr>\n",
       "  </thead>\n",
       "  <tbody>\n",
       "    <tr>\n",
       "      <th>0</th>\n",
       "      <td>Japan</td>\n",
       "      <td>1992</td>\n",
       "    </tr>\n",
       "    <tr>\n",
       "      <th>1</th>\n",
       "      <td>United States</td>\n",
       "      <td>1993</td>\n",
       "    </tr>\n",
       "    <tr>\n",
       "      <th>2</th>\n",
       "      <td>Russia</td>\n",
       "      <td>1995</td>\n",
       "    </tr>\n",
       "  </tbody>\n",
       "</table>\n",
       "</div>"
      ],
      "text/plain": [
       "         Country  Year\n",
       "0          Japan  1992\n",
       "1  United States  1993\n",
       "2         Russia  1995"
      ]
     },
     "execution_count": 96,
     "metadata": {},
     "output_type": "execute_result"
    }
   ],
   "source": [
    "test_df=pd.DataFrame({\"Country\":[\"Japan\",\"United States\",\"Russia\"],\"Year\":[1992,1993,1995]})\n",
    "test_df"
   ]
  },
  {
   "cell_type": "markdown",
   "metadata": {},
   "source": [
    "# Pandas DataFrame from Excel file\n",
    "- Fragile State Index Data is an open source data from https://fragilestatesindex.org/excel/\n",
    "- Indices for each year are stored in separated files\n",
    "- Goal is to combine files together,and then some data cleaning\n",
    "- Required pacakges- pandas, os; Optional package- re, datetime"
   ]
  },
  {
   "cell_type": "code",
   "execution_count": 139,
   "metadata": {},
   "outputs": [
    {
     "data": {
      "text/html": [
       "<div>\n",
       "<style scoped>\n",
       "    .dataframe tbody tr th:only-of-type {\n",
       "        vertical-align: middle;\n",
       "    }\n",
       "\n",
       "    .dataframe tbody tr th {\n",
       "        vertical-align: top;\n",
       "    }\n",
       "\n",
       "    .dataframe thead th {\n",
       "        text-align: right;\n",
       "    }\n",
       "</style>\n",
       "<table border=\"1\" class=\"dataframe\">\n",
       "  <thead>\n",
       "    <tr style=\"text-align: right;\">\n",
       "      <th></th>\n",
       "      <th>Country</th>\n",
       "      <th>Year</th>\n",
       "      <th>FragileStateIndex</th>\n",
       "    </tr>\n",
       "  </thead>\n",
       "  <tbody>\n",
       "    <tr>\n",
       "      <th>0</th>\n",
       "      <td>Afghanistan</td>\n",
       "      <td>2012</td>\n",
       "      <td>106.0</td>\n",
       "    </tr>\n",
       "    <tr>\n",
       "      <th>1</th>\n",
       "      <td>Yemen</td>\n",
       "      <td>2012</td>\n",
       "      <td>104.8</td>\n",
       "    </tr>\n",
       "  </tbody>\n",
       "</table>\n",
       "</div>"
      ],
      "text/plain": [
       "       Country  Year  FragileStateIndex\n",
       "0  Afghanistan  2012              106.0\n",
       "1        Yemen  2012              104.8"
      ]
     },
     "execution_count": 139,
     "metadata": {},
     "output_type": "execute_result"
    }
   ],
   "source": [
    "# Desired Format \n",
    "pd.DataFrame({\"Country\":[\"Afghanistan\",\"Yemen\"],\"Year\":[2012,2012],\"FragileStateIndex\":[106,104.8]})"
   ]
  },
  {
   "cell_type": "code",
   "execution_count": 129,
   "metadata": {},
   "outputs": [
    {
     "data": {
      "text/plain": [
       "['fsi-2012.xlsx',\n",
       " 'fsi-2008.xlsx',\n",
       " 'fsi-2009.xlsx',\n",
       " 'fsi-2013.xlsx',\n",
       " 'fsi-2018.xlsx',\n",
       " 'fsi-2014.xlsx',\n",
       " 'fsi-2015.xlsx',\n",
       " 'fsi-2016.xlsx',\n",
       " 'fsi-2017.xlsx',\n",
       " 'fsi-2006.xlsx',\n",
       " 'fsi-2010.xlsx',\n",
       " 'fsi-2011.xlsx',\n",
       " 'fsi-2007.xlsx']"
      ]
     },
     "execution_count": 129,
     "metadata": {},
     "output_type": "execute_result"
    }
   ],
   "source": [
    "# here I'm using the relative path which is the path from your current working directory\n",
    "# the absolute directory here would be \n",
    "# \"/Users/Xyt/Desktop/Pardee Center/quick Python/Pardee_Data_Team_Python/Note Books/Sample Data/FSI 2006-2018\"\n",
    "# to get the absolute path, you can use os.path.abspath(\"Sample Data/FSI 2006-2018\") \n",
    "os.listdir(\"Sample Data/FSI 2006-2018\")"
   ]
  },
  {
   "cell_type": "code",
   "execution_count": 157,
   "metadata": {},
   "outputs": [
    {
     "data": {
      "text/html": [
       "<div>\n",
       "<style scoped>\n",
       "    .dataframe tbody tr th:only-of-type {\n",
       "        vertical-align: middle;\n",
       "    }\n",
       "\n",
       "    .dataframe tbody tr th {\n",
       "        vertical-align: top;\n",
       "    }\n",
       "\n",
       "    .dataframe thead th {\n",
       "        text-align: right;\n",
       "    }\n",
       "</style>\n",
       "<table border=\"1\" class=\"dataframe\">\n",
       "  <thead>\n",
       "    <tr style=\"text-align: right;\">\n",
       "      <th></th>\n",
       "      <th>Country</th>\n",
       "      <th>Year</th>\n",
       "      <th>Rank</th>\n",
       "      <th>Total</th>\n",
       "      <th>C1: Security Apparatus</th>\n",
       "      <th>C2: Factionalized Elites</th>\n",
       "      <th>C3: Group Grievance</th>\n",
       "      <th>E1: Economy</th>\n",
       "      <th>E2: Economic Inequality</th>\n",
       "      <th>E3: Human Flight and Brain Drain</th>\n",
       "      <th>P1: State Legitimacy</th>\n",
       "      <th>P2: Public Services</th>\n",
       "      <th>P3: Human Rights</th>\n",
       "      <th>S1: Demographic Pressures</th>\n",
       "      <th>S2: Refugees and IDPs</th>\n",
       "      <th>X1: External Intervention</th>\n",
       "    </tr>\n",
       "  </thead>\n",
       "  <tbody>\n",
       "    <tr>\n",
       "      <th>0</th>\n",
       "      <td>Somalia</td>\n",
       "      <td>2012-01-01</td>\n",
       "      <td>1st</td>\n",
       "      <td>114.9</td>\n",
       "      <td>10.0</td>\n",
       "      <td>9.8</td>\n",
       "      <td>9.6</td>\n",
       "      <td>9.7</td>\n",
       "      <td>8.1</td>\n",
       "      <td>8.6</td>\n",
       "      <td>9.9</td>\n",
       "      <td>9.8</td>\n",
       "      <td>9.9</td>\n",
       "      <td>9.8</td>\n",
       "      <td>10.0</td>\n",
       "      <td>9.8</td>\n",
       "    </tr>\n",
       "    <tr>\n",
       "      <th>1</th>\n",
       "      <td>Congo Democratic Republic</td>\n",
       "      <td>2012-01-01</td>\n",
       "      <td>2nd</td>\n",
       "      <td>111.2</td>\n",
       "      <td>9.7</td>\n",
       "      <td>9.5</td>\n",
       "      <td>9.3</td>\n",
       "      <td>8.8</td>\n",
       "      <td>8.9</td>\n",
       "      <td>7.4</td>\n",
       "      <td>9.5</td>\n",
       "      <td>9.2</td>\n",
       "      <td>9.7</td>\n",
       "      <td>9.9</td>\n",
       "      <td>9.7</td>\n",
       "      <td>9.6</td>\n",
       "    </tr>\n",
       "    <tr>\n",
       "      <th>2</th>\n",
       "      <td>Sudan</td>\n",
       "      <td>2012-01-01</td>\n",
       "      <td>3rd</td>\n",
       "      <td>109.4</td>\n",
       "      <td>9.7</td>\n",
       "      <td>9.9</td>\n",
       "      <td>10.0</td>\n",
       "      <td>7.3</td>\n",
       "      <td>8.8</td>\n",
       "      <td>8.3</td>\n",
       "      <td>9.5</td>\n",
       "      <td>8.5</td>\n",
       "      <td>9.4</td>\n",
       "      <td>8.4</td>\n",
       "      <td>9.9</td>\n",
       "      <td>9.5</td>\n",
       "    </tr>\n",
       "    <tr>\n",
       "      <th>3</th>\n",
       "      <td>South Sudan</td>\n",
       "      <td>2012-01-01</td>\n",
       "      <td>n/r</td>\n",
       "      <td>108.4</td>\n",
       "      <td>9.7</td>\n",
       "      <td>10.0</td>\n",
       "      <td>10.0</td>\n",
       "      <td>7.3</td>\n",
       "      <td>8.8</td>\n",
       "      <td>6.4</td>\n",
       "      <td>9.1</td>\n",
       "      <td>9.5</td>\n",
       "      <td>9.2</td>\n",
       "      <td>8.4</td>\n",
       "      <td>9.9</td>\n",
       "      <td>10.0</td>\n",
       "    </tr>\n",
       "    <tr>\n",
       "      <th>4</th>\n",
       "      <td>Chad</td>\n",
       "      <td>2012-01-01</td>\n",
       "      <td>4th</td>\n",
       "      <td>107.6</td>\n",
       "      <td>8.9</td>\n",
       "      <td>9.8</td>\n",
       "      <td>9.1</td>\n",
       "      <td>8.3</td>\n",
       "      <td>8.6</td>\n",
       "      <td>7.7</td>\n",
       "      <td>9.8</td>\n",
       "      <td>9.5</td>\n",
       "      <td>9.3</td>\n",
       "      <td>9.3</td>\n",
       "      <td>9.5</td>\n",
       "      <td>7.8</td>\n",
       "    </tr>\n",
       "  </tbody>\n",
       "</table>\n",
       "</div>"
      ],
      "text/plain": [
       "                     Country       Year Rank  Total  C1: Security Apparatus  \\\n",
       "0                    Somalia 2012-01-01  1st  114.9                    10.0   \n",
       "1  Congo Democratic Republic 2012-01-01  2nd  111.2                     9.7   \n",
       "2                      Sudan 2012-01-01  3rd  109.4                     9.7   \n",
       "3                South Sudan 2012-01-01  n/r  108.4                     9.7   \n",
       "4                       Chad 2012-01-01  4th  107.6                     8.9   \n",
       "\n",
       "   C2: Factionalized Elites  C3: Group Grievance  E1: Economy  \\\n",
       "0                       9.8                  9.6          9.7   \n",
       "1                       9.5                  9.3          8.8   \n",
       "2                       9.9                 10.0          7.3   \n",
       "3                      10.0                 10.0          7.3   \n",
       "4                       9.8                  9.1          8.3   \n",
       "\n",
       "   E2: Economic Inequality  E3: Human Flight and Brain Drain  \\\n",
       "0                      8.1                               8.6   \n",
       "1                      8.9                               7.4   \n",
       "2                      8.8                               8.3   \n",
       "3                      8.8                               6.4   \n",
       "4                      8.6                               7.7   \n",
       "\n",
       "   P1: State Legitimacy  P2: Public Services  P3: Human Rights  \\\n",
       "0                   9.9                  9.8               9.9   \n",
       "1                   9.5                  9.2               9.7   \n",
       "2                   9.5                  8.5               9.4   \n",
       "3                   9.1                  9.5               9.2   \n",
       "4                   9.8                  9.5               9.3   \n",
       "\n",
       "   S1: Demographic Pressures  S2: Refugees and IDPs  X1: External Intervention  \n",
       "0                        9.8                   10.0                        9.8  \n",
       "1                        9.9                    9.7                        9.6  \n",
       "2                        8.4                    9.9                        9.5  \n",
       "3                        8.4                    9.9                       10.0  \n",
       "4                        9.3                    9.5                        7.8  "
      ]
     },
     "execution_count": 157,
     "metadata": {},
     "output_type": "execute_result"
    }
   ],
   "source": [
    "# or use absolute path pd.read_excel(\"/Users/Xyt/Desktop/Pardee Center/quick Python/Pardee_Data_Team_Python/Note Books/Sample Data/FSI 2006-2018/fsi-2012.xlsx\")\n",
    "dt_2012=pd.read_excel(\"Sample Data/FSI 2006-2018/fsi-2012.xlsx\")\n",
    "# lets take a glance at first 5 rows\n",
    "dt_2012.head()"
   ]
  },
  {
   "cell_type": "code",
   "execution_count": 179,
   "metadata": {},
   "outputs": [
    {
     "data": {
      "text/plain": [
       "Country            object\n",
       "Year       datetime64[ns]\n",
       "Total             float64\n",
       "dtype: object"
      ]
     },
     "execution_count": 179,
     "metadata": {},
     "output_type": "execute_result"
    }
   ],
   "source": [
    "# Columns we need are Country, Year, Total\n",
    "# try dt_2012.columns and see what it will return\n",
    "dt_2012=dt_2012[[\"Country\",\"Year\",\"Total\"]]\n",
    "# explore this data's attributes\n",
    "dt_2012.dtypes"
   ]
  },
  {
   "cell_type": "code",
   "execution_count": 180,
   "metadata": {},
   "outputs": [
    {
     "data": {
      "text/html": [
       "<div>\n",
       "<style scoped>\n",
       "    .dataframe tbody tr th:only-of-type {\n",
       "        vertical-align: middle;\n",
       "    }\n",
       "\n",
       "    .dataframe tbody tr th {\n",
       "        vertical-align: top;\n",
       "    }\n",
       "\n",
       "    .dataframe thead th {\n",
       "        text-align: right;\n",
       "    }\n",
       "</style>\n",
       "<table border=\"1\" class=\"dataframe\">\n",
       "  <thead>\n",
       "    <tr style=\"text-align: right;\">\n",
       "      <th></th>\n",
       "      <th>Country</th>\n",
       "      <th>Year</th>\n",
       "      <th>Total</th>\n",
       "    </tr>\n",
       "  </thead>\n",
       "  <tbody>\n",
       "    <tr>\n",
       "      <th>0</th>\n",
       "      <td>Somalia</td>\n",
       "      <td>2012-01-01</td>\n",
       "      <td>114.9</td>\n",
       "    </tr>\n",
       "    <tr>\n",
       "      <th>1</th>\n",
       "      <td>Congo Democratic Republic</td>\n",
       "      <td>2012-01-01</td>\n",
       "      <td>111.2</td>\n",
       "    </tr>\n",
       "  </tbody>\n",
       "</table>\n",
       "</div>"
      ],
      "text/plain": [
       "                     Country       Year  Total\n",
       "0                    Somalia 2012-01-01  114.9\n",
       "1  Congo Democratic Republic 2012-01-01  111.2"
      ]
     },
     "execution_count": 180,
     "metadata": {},
     "output_type": "execute_result"
    }
   ],
   "source": [
    "dt_2012.head(2)"
   ]
  },
  {
   "cell_type": "code",
   "execution_count": 181,
   "metadata": {},
   "outputs": [],
   "source": [
    "# Use the above commands in a loop to combine all the Excel files together\n",
    "dt_fsi=[]\n",
    "\n",
    "for i in os.listdir(\"Sample Data/FSI 2006-2018\"):\n",
    "    \n",
    "    dt_temp=pd.read_excel(\"Sample Data/FSI 2006-2018/\"+i)\n",
    "    dt_temp=dt_temp[[\"Country\",\"Year\",\"Total\"]]\n",
    "    \n",
    "    dt_fsi.append(dt_temp)\n",
    "    \n",
    "fsi_allyear=pd.concat(dt_fsi, ignore_index=False)"
   ]
  },
  {
   "cell_type": "code",
   "execution_count": 183,
   "metadata": {},
   "outputs": [],
   "source": [
    "# Rename column Total to FragileStateIndex\n",
    "# Either use inplace=True or a re-assignment to overwrite current dataframe \n",
    "# e.g., fsi_allyear=fsi_allyear.rename(columns={\"Total\":\"FragileStateIndex\"})\n",
    "fsi_allyear.rename(columns={\"Total\":\"FragileStateIndex\"},inplace=True)\n",
    "# Change the Year column to integer numbers\n",
    "fsi_allyear.Year=fsi_allyear.Year.apply(lambda x: int(re.sub(\"[^0-9].+\",\"\",str(x))) )"
   ]
  },
  {
   "cell_type": "code",
   "execution_count": 186,
   "metadata": {},
   "outputs": [
    {
     "data": {
      "text/html": [
       "<div>\n",
       "<style scoped>\n",
       "    .dataframe tbody tr th:only-of-type {\n",
       "        vertical-align: middle;\n",
       "    }\n",
       "\n",
       "    .dataframe tbody tr th {\n",
       "        vertical-align: top;\n",
       "    }\n",
       "\n",
       "    .dataframe thead th {\n",
       "        text-align: right;\n",
       "    }\n",
       "</style>\n",
       "<table border=\"1\" class=\"dataframe\">\n",
       "  <thead>\n",
       "    <tr style=\"text-align: right;\">\n",
       "      <th></th>\n",
       "      <th>Country</th>\n",
       "      <th>Year</th>\n",
       "      <th>FragileStateIndex</th>\n",
       "    </tr>\n",
       "  </thead>\n",
       "  <tbody>\n",
       "    <tr>\n",
       "      <th>0</th>\n",
       "      <td>Somalia</td>\n",
       "      <td>2012</td>\n",
       "      <td>114.9</td>\n",
       "    </tr>\n",
       "    <tr>\n",
       "      <th>1</th>\n",
       "      <td>Congo Democratic Republic</td>\n",
       "      <td>2012</td>\n",
       "      <td>111.2</td>\n",
       "    </tr>\n",
       "    <tr>\n",
       "      <th>2</th>\n",
       "      <td>Sudan</td>\n",
       "      <td>2012</td>\n",
       "      <td>109.4</td>\n",
       "    </tr>\n",
       "    <tr>\n",
       "      <th>3</th>\n",
       "      <td>South Sudan</td>\n",
       "      <td>2012</td>\n",
       "      <td>108.4</td>\n",
       "    </tr>\n",
       "    <tr>\n",
       "      <th>4</th>\n",
       "      <td>Chad</td>\n",
       "      <td>2012</td>\n",
       "      <td>107.6</td>\n",
       "    </tr>\n",
       "  </tbody>\n",
       "</table>\n",
       "</div>"
      ],
      "text/plain": [
       "                     Country  Year  FragileStateIndex\n",
       "0                    Somalia  2012              114.9\n",
       "1  Congo Democratic Republic  2012              111.2\n",
       "2                      Sudan  2012              109.4\n",
       "3                South Sudan  2012              108.4\n",
       "4                       Chad  2012              107.6"
      ]
     },
     "execution_count": 186,
     "metadata": {},
     "output_type": "execute_result"
    }
   ],
   "source": [
    "fsi_allyear.head()"
   ]
  },
  {
   "cell_type": "code",
   "execution_count": 208,
   "metadata": {},
   "outputs": [],
   "source": [
    "fsi_allyear.sort_values(by=[\"Year\",\"Country\"],inplace=True)"
   ]
  },
  {
   "cell_type": "code",
   "execution_count": 210,
   "metadata": {},
   "outputs": [],
   "source": [
    "fsi_allyear.reset_index(drop=True,inplace=True)"
   ]
  },
  {
   "cell_type": "code",
   "execution_count": 212,
   "metadata": {},
   "outputs": [],
   "source": [
    "fsi_allyear.to_excel(\"Sample Data/FSI All Years 2006-2018 Aug19 2019.xlsx\",index=False)"
   ]
  },
  {
   "cell_type": "markdown",
   "metadata": {},
   "source": [
    "### Variety ways to achieve the date to number conversion"
   ]
  },
  {
   "cell_type": "code",
   "execution_count": 192,
   "metadata": {},
   "outputs": [
    {
     "name": "stdout",
     "output_type": "stream",
     "text": [
      "2012-01-01 00:00:00\n",
      "2012\n"
     ]
    }
   ],
   "source": [
    "# use slicing in string\n",
    "print(str(dt_2012.Year[0]))\n",
    "print(str(dt_2012.Year[0])[:4])"
   ]
  },
  {
   "cell_type": "code",
   "execution_count": 199,
   "metadata": {},
   "outputs": [
    {
     "data": {
      "text/plain": [
       "Timestamp('2012-01-01 00:00:00')"
      ]
     },
     "execution_count": 199,
     "metadata": {},
     "output_type": "execute_result"
    }
   ],
   "source": [
    "# use the inherent arribute of datetime\n",
    "dt_2012.Year[0]"
   ]
  },
  {
   "cell_type": "code",
   "execution_count": 206,
   "metadata": {},
   "outputs": [
    {
     "data": {
      "text/plain": [
       "['__add__',\n",
       " '__class__',\n",
       " '__delattr__',\n",
       " '__dict__',\n",
       " '__dir__',\n",
       " '__doc__',\n",
       " '__eq__',\n",
       " '__format__',\n",
       " '__ge__',\n",
       " '__getattribute__',\n",
       " '__gt__',\n",
       " '__hash__',\n",
       " '__init__',\n",
       " '__init_subclass__',\n",
       " '__le__',\n",
       " '__lt__',\n",
       " '__module__',\n",
       " '__ne__',\n",
       " '__new__',\n",
       " '__pyx_vtable__',\n",
       " '__radd__',\n",
       " '__reduce__',\n",
       " '__reduce_ex__',\n",
       " '__repr__',\n",
       " '__rsub__',\n",
       " '__setattr__',\n",
       " '__setstate__',\n",
       " '__sizeof__',\n",
       " '__str__',\n",
       " '__sub__',\n",
       " '__subclasshook__',\n",
       " '__weakref__',\n",
       " '_date_attributes',\n",
       " '_date_repr',\n",
       " '_get_date_name_field',\n",
       " '_get_start_end_field',\n",
       " '_has_time_component',\n",
       " '_repr_base',\n",
       " '_round',\n",
       " '_short_repr',\n",
       " '_time_repr',\n",
       " 'asm8',\n",
       " 'astimezone',\n",
       " 'ceil',\n",
       " 'combine',\n",
       " 'ctime',\n",
       " 'date',\n",
       " 'day',\n",
       " 'day_name',\n",
       " 'dayofweek',\n",
       " 'dayofyear',\n",
       " 'days_in_month',\n",
       " 'daysinmonth',\n",
       " 'dst',\n",
       " 'floor',\n",
       " 'fold',\n",
       " 'freq',\n",
       " 'freqstr',\n",
       " 'fromisoformat',\n",
       " 'fromordinal',\n",
       " 'fromtimestamp',\n",
       " 'hour',\n",
       " 'is_leap_year',\n",
       " 'is_month_end',\n",
       " 'is_month_start',\n",
       " 'is_quarter_end',\n",
       " 'is_quarter_start',\n",
       " 'is_year_end',\n",
       " 'is_year_start',\n",
       " 'isocalendar',\n",
       " 'isoformat',\n",
       " 'isoweekday',\n",
       " 'max',\n",
       " 'microsecond',\n",
       " 'min',\n",
       " 'minute',\n",
       " 'month',\n",
       " 'month_name',\n",
       " 'nanosecond',\n",
       " 'normalize',\n",
       " 'now',\n",
       " 'quarter',\n",
       " 'replace',\n",
       " 'resolution',\n",
       " 'round',\n",
       " 'second',\n",
       " 'strftime',\n",
       " 'strptime',\n",
       " 'time',\n",
       " 'timestamp',\n",
       " 'timetuple',\n",
       " 'timetz',\n",
       " 'to_datetime64',\n",
       " 'to_julian_date',\n",
       " 'to_period',\n",
       " 'to_pydatetime',\n",
       " 'today',\n",
       " 'toordinal',\n",
       " 'tz',\n",
       " 'tz_convert',\n",
       " 'tz_localize',\n",
       " 'tzinfo',\n",
       " 'tzname',\n",
       " 'utcfromtimestamp',\n",
       " 'utcnow',\n",
       " 'utcoffset',\n",
       " 'utctimetuple',\n",
       " 'value',\n",
       " 'week',\n",
       " 'weekday',\n",
       " 'weekday_name',\n",
       " 'weekofyear',\n",
       " 'year']"
      ]
     },
     "execution_count": 206,
     "metadata": {},
     "output_type": "execute_result"
    }
   ],
   "source": [
    "dir(dt_2012.Year[0])"
   ]
  },
  {
   "cell_type": "code",
   "execution_count": 198,
   "metadata": {},
   "outputs": [
    {
     "data": {
      "text/plain": [
       "2012"
      ]
     },
     "execution_count": 198,
     "metadata": {},
     "output_type": "execute_result"
    }
   ],
   "source": [
    "dt_2012.Year[0].year"
   ]
  }
 ],
 "metadata": {
  "kernelspec": {
   "display_name": "Python 3",
   "language": "python",
   "name": "python3"
  },
  "language_info": {
   "codemirror_mode": {
    "name": "ipython",
    "version": 3
   },
   "file_extension": ".py",
   "mimetype": "text/x-python",
   "name": "python",
   "nbconvert_exporter": "python",
   "pygments_lexer": "ipython3",
   "version": "3.7.4"
  }
 },
 "nbformat": 4,
 "nbformat_minor": 2
}
