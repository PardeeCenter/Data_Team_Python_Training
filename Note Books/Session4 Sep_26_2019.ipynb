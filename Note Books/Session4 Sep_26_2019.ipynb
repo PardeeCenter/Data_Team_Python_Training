{
 "cells": [
  {
   "cell_type": "markdown",
   "metadata": {},
   "source": [
    "<img src=\"https://pardee.du.edu/sites/default/files/PardeeCenterLogo_finalnew.png\" />\n",
    "<p style=\"text-align: center;\">yutang.xiong@du.edu </p> "
   ]
  },
  {
   "cell_type": "code",
   "execution_count": 1,
   "metadata": {},
   "outputs": [],
   "source": [
    "import pandas as pd\n",
    "import re\n",
    "import time\n",
    "import numpy as np\n",
    "import os\n",
    "import random as rd"
   ]
  },
  {
   "cell_type": "markdown",
   "metadata": {},
   "source": [
    "<img src=\"Pics/Double-Loop-learning.png\" width=300 height=200 />\n",
    "\n",
    "\n",
    "# Loop  \n",
    "- While loop:<br>\n",
    "You don't know how many times the operation is going to run, but you have an idea about when it should stop- until a condition is met\n",
    "- For loop:<br>\n",
    "You know how many time you are going to repeat the operation"
   ]
  },
  {
   "cell_type": "code",
   "execution_count": 8,
   "metadata": {},
   "outputs": [
    {
     "name": "stdout",
     "output_type": "stream",
     "text": [
      "Number is 1 ;Try again!\n",
      "Number is 2 ;Try again!\n",
      "Number is 5 ;Try again!\n",
      "Number is 4 ;Try again!\n",
      "You got it!\n"
     ]
    }
   ],
   "source": [
    "# Q: How many times you need to get a 6 rolling a dice? \n",
    "# number_rolled=[]\n",
    "initial_condition=True\n",
    "count=0\n",
    "\n",
    "#  or while initial_condition:\n",
    "while initial_condition==True:  \n",
    "    \n",
    "    # or count+=1\n",
    "    dice=rd.randint(1,6)\n",
    "    count=count+1\n",
    "    # number_rolled.append(dice)\n",
    "    \n",
    "    if dice==6:\n",
    "        print(\"You got it!\")\n",
    "        initial_condition=False\n",
    "    else:\n",
    "        print(\"Number is\",dice,\";Try again!\")"
   ]
  },
  {
   "cell_type": "code",
   "execution_count": 9,
   "metadata": {},
   "outputs": [
    {
     "data": {
      "text/plain": [
       "5"
      ]
     },
     "execution_count": 9,
     "metadata": {},
     "output_type": "execute_result"
    }
   ],
   "source": [
    "# very arbitary result\n",
    "count"
   ]
  },
  {
   "cell_type": "code",
   "execution_count": 4,
   "metadata": {},
   "outputs": [],
   "source": [
    "# On average, how many time you need to get a 6 rolling a dice?\n",
    "counter=[]\n",
    "for i in range(0,1000):\n",
    "    initial_condition=True\n",
    "    count=0\n",
    "\n",
    "    #  or while initial_condition:\n",
    "    while initial_condition==True:  \n",
    "\n",
    "        # or count+=1\n",
    "        dice=rd.randint(1,6)\n",
    "        count=count+1\n",
    "        # number_rolled.append(dice)\n",
    "\n",
    "        if dice==6:\n",
    "            initial_condition=False\n",
    "            \n",
    "    counter.append(count)"
   ]
  },
  {
   "cell_type": "code",
   "execution_count": 5,
   "metadata": {},
   "outputs": [],
   "source": [
    "# np.mean(counter)"
   ]
  },
  {
   "cell_type": "code",
   "execution_count": 14,
   "metadata": {},
   "outputs": [
    {
     "name": "stdout",
     "output_type": "stream",
     "text": [
      "0\n",
      "2\n",
      "4\n",
      "6\n",
      "8\n"
     ]
    }
   ],
   "source": [
    "# use of range() function\n",
    "for i in range(0,10,2):\n",
    "    print(i)"
   ]
  },
  {
   "cell_type": "code",
   "execution_count": 41,
   "metadata": {},
   "outputs": [
    {
     "name": "stdout",
     "output_type": "stream",
     "text": [
      "0\n",
      "1\n",
      "2\n"
     ]
    }
   ],
   "source": [
    "for i in range(3):\n",
    "    print(i)"
   ]
  },
  {
   "cell_type": "code",
   "execution_count": 49,
   "metadata": {},
   "outputs": [
    {
     "name": "stdout",
     "output_type": "stream",
     "text": [
      "5\n",
      "3\n",
      "1\n"
     ]
    }
   ],
   "source": [
    "for i in range(5,0,-2):\n",
    "    print(i)"
   ]
  },
  {
   "cell_type": "markdown",
   "metadata": {},
   "source": [
    "# A pandas dataframe example\n",
    "\n",
    "- Goal is to add most recent & earliest columns into the data <br>\n",
    "Note: I'm using probably the dumbest way here to achieve the goal. Please share with the team if you have any suggestons on the efficiency improvement."
   ]
  },
  {
   "cell_type": "code",
   "execution_count": 50,
   "metadata": {},
   "outputs": [],
   "source": [
    "dt=pd.read_excel(\"Sample Data/SeriesUNCTADTariffRevCountry.xlsx\")"
   ]
  },
  {
   "cell_type": "code",
   "execution_count": 51,
   "metadata": {},
   "outputs": [
    {
     "name": "stdout",
     "output_type": "stream",
     "text": [
      "(34410, 10)\n"
     ]
    },
    {
     "data": {
      "text/html": [
       "<div>\n",
       "<style scoped>\n",
       "    .dataframe tbody tr th:only-of-type {\n",
       "        vertical-align: middle;\n",
       "    }\n",
       "\n",
       "    .dataframe tbody tr th {\n",
       "        vertical-align: top;\n",
       "    }\n",
       "\n",
       "    .dataframe thead th {\n",
       "        text-align: right;\n",
       "    }\n",
       "</style>\n",
       "<table border=\"1\" class=\"dataframe\">\n",
       "  <thead>\n",
       "    <tr style=\"text-align: right;\">\n",
       "      <th></th>\n",
       "      <th>Actor</th>\n",
       "      <th>Partner</th>\n",
       "      <th>Actor_FIPS</th>\n",
       "      <th>Partner_FIPS</th>\n",
       "      <th>2010</th>\n",
       "      <th>2011</th>\n",
       "      <th>2012</th>\n",
       "      <th>2013</th>\n",
       "      <th>2014</th>\n",
       "      <th>2015</th>\n",
       "    </tr>\n",
       "  </thead>\n",
       "  <tbody>\n",
       "    <tr>\n",
       "      <td>0</td>\n",
       "      <td>Afghanistan</td>\n",
       "      <td>Albania</td>\n",
       "      <td>AFG</td>\n",
       "      <td>ALB</td>\n",
       "      <td>NaN</td>\n",
       "      <td>NaN</td>\n",
       "      <td>26.305618</td>\n",
       "      <td>25.925867</td>\n",
       "      <td>NaN</td>\n",
       "      <td>NaN</td>\n",
       "    </tr>\n",
       "    <tr>\n",
       "      <td>1</td>\n",
       "      <td>Afghanistan</td>\n",
       "      <td>Algeria</td>\n",
       "      <td>AFG</td>\n",
       "      <td>DZA</td>\n",
       "      <td>NaN</td>\n",
       "      <td>NaN</td>\n",
       "      <td>NaN</td>\n",
       "      <td>NaN</td>\n",
       "      <td>NaN</td>\n",
       "      <td>NaN</td>\n",
       "    </tr>\n",
       "    <tr>\n",
       "      <td>2</td>\n",
       "      <td>Afghanistan</td>\n",
       "      <td>Angola</td>\n",
       "      <td>AFG</td>\n",
       "      <td>AGO</td>\n",
       "      <td>NaN</td>\n",
       "      <td>NaN</td>\n",
       "      <td>NaN</td>\n",
       "      <td>NaN</td>\n",
       "      <td>NaN</td>\n",
       "      <td>NaN</td>\n",
       "    </tr>\n",
       "    <tr>\n",
       "      <td>3</td>\n",
       "      <td>Afghanistan</td>\n",
       "      <td>Argentina</td>\n",
       "      <td>AFG</td>\n",
       "      <td>ARG</td>\n",
       "      <td>NaN</td>\n",
       "      <td>NaN</td>\n",
       "      <td>16301.528038</td>\n",
       "      <td>16066.196887</td>\n",
       "      <td>NaN</td>\n",
       "      <td>NaN</td>\n",
       "    </tr>\n",
       "    <tr>\n",
       "      <td>4</td>\n",
       "      <td>Afghanistan</td>\n",
       "      <td>Armenia</td>\n",
       "      <td>AFG</td>\n",
       "      <td>ARM</td>\n",
       "      <td>NaN</td>\n",
       "      <td>NaN</td>\n",
       "      <td>NaN</td>\n",
       "      <td>NaN</td>\n",
       "      <td>NaN</td>\n",
       "      <td>NaN</td>\n",
       "    </tr>\n",
       "  </tbody>\n",
       "</table>\n",
       "</div>"
      ],
      "text/plain": [
       "         Actor    Partner Actor_FIPS Partner_FIPS  2010  2011          2012  \\\n",
       "0  Afghanistan    Albania        AFG          ALB   NaN   NaN     26.305618   \n",
       "1  Afghanistan    Algeria        AFG          DZA   NaN   NaN           NaN   \n",
       "2  Afghanistan     Angola        AFG          AGO   NaN   NaN           NaN   \n",
       "3  Afghanistan  Argentina        AFG          ARG   NaN   NaN  16301.528038   \n",
       "4  Afghanistan    Armenia        AFG          ARM   NaN   NaN           NaN   \n",
       "\n",
       "           2013  2014  2015  \n",
       "0     25.925867   NaN   NaN  \n",
       "1           NaN   NaN   NaN  \n",
       "2           NaN   NaN   NaN  \n",
       "3  16066.196887   NaN   NaN  \n",
       "4           NaN   NaN   NaN  "
      ]
     },
     "execution_count": 51,
     "metadata": {},
     "output_type": "execute_result"
    }
   ],
   "source": [
    "# as always, check some basic attributes of the data\n",
    "print(dt.shape)\n",
    "dt.head(5)"
   ]
  },
  {
   "cell_type": "code",
   "execution_count": 52,
   "metadata": {},
   "outputs": [
    {
     "data": {
      "text/plain": [
       "Actor            object\n",
       "Partner          object\n",
       "Actor_FIPS       object\n",
       "Partner_FIPS     object\n",
       "2010            float64\n",
       "2011            float64\n",
       "2012            float64\n",
       "2013            float64\n",
       "2014            float64\n",
       "2015            float64\n",
       "dtype: object"
      ]
     },
     "execution_count": 52,
     "metadata": {},
     "output_type": "execute_result"
    }
   ],
   "source": [
    "dt.dtypes"
   ]
  },
  {
   "cell_type": "code",
   "execution_count": 68,
   "metadata": {},
   "outputs": [
    {
     "data": {
      "text/html": [
       "<div>\n",
       "<style scoped>\n",
       "    .dataframe tbody tr th:only-of-type {\n",
       "        vertical-align: middle;\n",
       "    }\n",
       "\n",
       "    .dataframe tbody tr th {\n",
       "        vertical-align: top;\n",
       "    }\n",
       "\n",
       "    .dataframe thead th {\n",
       "        text-align: right;\n",
       "    }\n",
       "</style>\n",
       "<table border=\"1\" class=\"dataframe\">\n",
       "  <thead>\n",
       "    <tr style=\"text-align: right;\">\n",
       "      <th></th>\n",
       "      <th>Actor</th>\n",
       "      <th>Partner</th>\n",
       "      <th>Actor_FIPS</th>\n",
       "      <th>Partner_FIPS</th>\n",
       "      <th>2010</th>\n",
       "      <th>2011</th>\n",
       "      <th>2012</th>\n",
       "      <th>2013</th>\n",
       "      <th>2014</th>\n",
       "      <th>2015</th>\n",
       "    </tr>\n",
       "  </thead>\n",
       "  <tbody>\n",
       "    <tr>\n",
       "      <td>185</td>\n",
       "      <td>Albania</td>\n",
       "      <td>Afghanistan</td>\n",
       "      <td>ALB</td>\n",
       "      <td>AFG</td>\n",
       "      <td>236.641077</td>\n",
       "      <td>NaN</td>\n",
       "      <td>17.635051</td>\n",
       "      <td>688.121749</td>\n",
       "      <td>NaN</td>\n",
       "      <td>NaN</td>\n",
       "    </tr>\n",
       "    <tr>\n",
       "      <td>370</td>\n",
       "      <td>Algeria</td>\n",
       "      <td>Afghanistan</td>\n",
       "      <td>DZA</td>\n",
       "      <td>AFG</td>\n",
       "      <td>NaN</td>\n",
       "      <td>NaN</td>\n",
       "      <td>NaN</td>\n",
       "      <td>NaN</td>\n",
       "      <td>51.594129</td>\n",
       "      <td>13346.894415</td>\n",
       "    </tr>\n",
       "    <tr>\n",
       "      <td>555</td>\n",
       "      <td>Angola</td>\n",
       "      <td>Afghanistan</td>\n",
       "      <td>AGO</td>\n",
       "      <td>AFG</td>\n",
       "      <td>26332.086222</td>\n",
       "      <td>35390.8100</td>\n",
       "      <td>50192.226989</td>\n",
       "      <td>19124.261503</td>\n",
       "      <td>17507.759768</td>\n",
       "      <td>26881.034743</td>\n",
       "    </tr>\n",
       "    <tr>\n",
       "      <td>740</td>\n",
       "      <td>Argentina</td>\n",
       "      <td>Afghanistan</td>\n",
       "      <td>ARG</td>\n",
       "      <td>AFG</td>\n",
       "      <td>NaN</td>\n",
       "      <td>1428.6457</td>\n",
       "      <td>1960.482398</td>\n",
       "      <td>36564.731330</td>\n",
       "      <td>35981.051114</td>\n",
       "      <td>498.711886</td>\n",
       "    </tr>\n",
       "    <tr>\n",
       "      <td>925</td>\n",
       "      <td>Armenia</td>\n",
       "      <td>Afghanistan</td>\n",
       "      <td>ARM</td>\n",
       "      <td>AFG</td>\n",
       "      <td>1147.203755</td>\n",
       "      <td>0.0000</td>\n",
       "      <td>198.884191</td>\n",
       "      <td>471.686627</td>\n",
       "      <td>0.000000</td>\n",
       "      <td>1.518467</td>\n",
       "    </tr>\n",
       "    <tr>\n",
       "      <td>1110</td>\n",
       "      <td>Australia</td>\n",
       "      <td>Afghanistan</td>\n",
       "      <td>AUS</td>\n",
       "      <td>AFG</td>\n",
       "      <td>0.000000</td>\n",
       "      <td>0.0000</td>\n",
       "      <td>0.000000</td>\n",
       "      <td>0.000000</td>\n",
       "      <td>0.000000</td>\n",
       "      <td>0.000000</td>\n",
       "    </tr>\n",
       "    <tr>\n",
       "      <td>1295</td>\n",
       "      <td>Austria</td>\n",
       "      <td>Afghanistan</td>\n",
       "      <td>AUT</td>\n",
       "      <td>AFG</td>\n",
       "      <td>NaN</td>\n",
       "      <td>NaN</td>\n",
       "      <td>NaN</td>\n",
       "      <td>NaN</td>\n",
       "      <td>NaN</td>\n",
       "      <td>NaN</td>\n",
       "    </tr>\n",
       "    <tr>\n",
       "      <td>1480</td>\n",
       "      <td>Azerbaijan</td>\n",
       "      <td>Afghanistan</td>\n",
       "      <td>AZE</td>\n",
       "      <td>AFG</td>\n",
       "      <td>NaN</td>\n",
       "      <td>135.4050</td>\n",
       "      <td>NaN</td>\n",
       "      <td>NaN</td>\n",
       "      <td>NaN</td>\n",
       "      <td>NaN</td>\n",
       "    </tr>\n",
       "    <tr>\n",
       "      <td>1665</td>\n",
       "      <td>Bahamas, The</td>\n",
       "      <td>Afghanistan</td>\n",
       "      <td>BHS</td>\n",
       "      <td>AFG</td>\n",
       "      <td>NaN</td>\n",
       "      <td>NaN</td>\n",
       "      <td>NaN</td>\n",
       "      <td>NaN</td>\n",
       "      <td>NaN</td>\n",
       "      <td>120.528287</td>\n",
       "    </tr>\n",
       "    <tr>\n",
       "      <td>1850</td>\n",
       "      <td>Bahrain</td>\n",
       "      <td>Afghanistan</td>\n",
       "      <td>BHR</td>\n",
       "      <td>AFG</td>\n",
       "      <td>3832.007146</td>\n",
       "      <td>3104.0000</td>\n",
       "      <td>3041.066648</td>\n",
       "      <td>1992.670812</td>\n",
       "      <td>NaN</td>\n",
       "      <td>3376.580790</td>\n",
       "    </tr>\n",
       "  </tbody>\n",
       "</table>\n",
       "</div>"
      ],
      "text/plain": [
       "             Actor      Partner Actor_FIPS Partner_FIPS          2010  \\\n",
       "185        Albania  Afghanistan        ALB          AFG    236.641077   \n",
       "370        Algeria  Afghanistan        DZA          AFG           NaN   \n",
       "555         Angola  Afghanistan        AGO          AFG  26332.086222   \n",
       "740      Argentina  Afghanistan        ARG          AFG           NaN   \n",
       "925        Armenia  Afghanistan        ARM          AFG   1147.203755   \n",
       "1110     Australia  Afghanistan        AUS          AFG      0.000000   \n",
       "1295       Austria  Afghanistan        AUT          AFG           NaN   \n",
       "1480    Azerbaijan  Afghanistan        AZE          AFG           NaN   \n",
       "1665  Bahamas, The  Afghanistan        BHS          AFG           NaN   \n",
       "1850       Bahrain  Afghanistan        BHR          AFG   3832.007146   \n",
       "\n",
       "            2011          2012          2013          2014          2015  \n",
       "185          NaN     17.635051    688.121749           NaN           NaN  \n",
       "370          NaN           NaN           NaN     51.594129  13346.894415  \n",
       "555   35390.8100  50192.226989  19124.261503  17507.759768  26881.034743  \n",
       "740    1428.6457   1960.482398  36564.731330  35981.051114    498.711886  \n",
       "925       0.0000    198.884191    471.686627      0.000000      1.518467  \n",
       "1110      0.0000      0.000000      0.000000      0.000000      0.000000  \n",
       "1295         NaN           NaN           NaN           NaN           NaN  \n",
       "1480    135.4050           NaN           NaN           NaN           NaN  \n",
       "1665         NaN           NaN           NaN           NaN    120.528287  \n",
       "1850   3104.0000   3041.066648   1992.670812           NaN   3376.580790  "
      ]
     },
     "execution_count": 68,
     "metadata": {},
     "output_type": "execute_result"
    }
   ],
   "source": [
    "# use of iloc: pure postition based selection (different than index based), starting from postion 0\n",
    "# use of loc: index based selection, starting from index 0\n",
    "dt.sort_values(by=[\"Partner\",\"Actor\"],inplace=True)\n",
    "dt.head(10)"
   ]
  },
  {
   "cell_type": "code",
   "execution_count": 69,
   "metadata": {},
   "outputs": [
    {
     "name": "stdout",
     "output_type": "stream",
     "text": [
      "Afghanistan\n",
      "Albania\n",
      "-------------\n",
      "Actor                Angola\n",
      "Partner         Afghanistan\n",
      "Actor_FIPS              AGO\n",
      "Partner_FIPS            AFG\n",
      "2010                26332.1\n",
      "Name: 555, dtype: object\n"
     ]
    }
   ],
   "source": [
    "print(dt.iloc[2,1]) # is getting values at row position-2 and column position-1\n",
    "print(dt.loc[185,\"Actor\"]) # is getting values at row position-2 and column position-1\n",
    "print(\"-------------\")\n",
    "print(dt.iloc[2,:5]) # is getting values at row position-2 and column up to position-4"
   ]
  },
  {
   "cell_type": "code",
   "execution_count": 70,
   "metadata": {},
   "outputs": [
    {
     "name": "stdout",
     "output_type": "stream",
     "text": [
      "<class 'pandas.core.series.Series'>\n"
     ]
    },
    {
     "data": {
      "text/plain": [
       "2010    236.641\n",
       "2011        NaN\n",
       "2012    17.6351\n",
       "2013    688.122\n",
       "2014        NaN\n",
       "2015        NaN\n",
       "Name: 185, dtype: object"
      ]
     },
     "execution_count": 70,
     "metadata": {},
     "output_type": "execute_result"
    }
   ],
   "source": [
    "print(type(dt.iloc[0,4:]))\n",
    "dt.iloc[0,4:]"
   ]
  },
  {
   "cell_type": "code",
   "execution_count": 71,
   "metadata": {},
   "outputs": [
    {
     "data": {
      "text/plain": [
       "2010    236.641\n",
       "2012    17.6351\n",
       "2013    688.122\n",
       "Name: 185, dtype: object"
      ]
     },
     "execution_count": 71,
     "metadata": {},
     "output_type": "execute_result"
    }
   ],
   "source": [
    "dt.iloc[0,4:].dropna()"
   ]
  },
  {
   "cell_type": "code",
   "execution_count": 72,
   "metadata": {},
   "outputs": [
    {
     "data": {
      "text/plain": [
       "2010    NaN\n",
       "2011    NaN\n",
       "2012    NaN\n",
       "2013    NaN\n",
       "2014    NaN\n",
       "2015    NaN\n",
       "Name: 1295, dtype: object"
      ]
     },
     "execution_count": 72,
     "metadata": {},
     "output_type": "execute_result"
    }
   ],
   "source": [
    "dt.loc[1295,[2010,2011,2012,2013,2014,2015]]"
   ]
  },
  {
   "cell_type": "code",
   "execution_count": 77,
   "metadata": {},
   "outputs": [
    {
     "data": {
      "text/plain": [
       "Series([], Name: 1295, dtype: object)"
      ]
     },
     "execution_count": 77,
     "metadata": {},
     "output_type": "execute_result"
    }
   ],
   "source": [
    "dt.loc[1295,[2010,2011,2012,2013,2014,2015]].dropna()"
   ]
  },
  {
   "cell_type": "code",
   "execution_count": 80,
   "metadata": {},
   "outputs": [
    {
     "name": "stdout",
     "output_type": "stream",
     "text": [
      "0\n"
     ]
    },
    {
     "data": {
      "text/plain": [
       "True"
      ]
     },
     "execution_count": 80,
     "metadata": {},
     "output_type": "execute_result"
    }
   ],
   "source": [
    "# use of empty or len()\n",
    "print( len(dt.loc[1295,[2010,2011,2012,2013,2014,2015]].dropna()) )\n",
    "dt.loc[1295,[2010,2011,2012,2013,2014,2015]].dropna().empty"
   ]
  },
  {
   "cell_type": "code",
   "execution_count": 81,
   "metadata": {},
   "outputs": [],
   "source": [
    "# prepare empty lists\n",
    "E=[]\n",
    "R=[]   \n",
    "for l in range(dt.shape[0]): \n",
    "    line=dt.iloc[l,4:].dropna()\n",
    "    \n",
    "    if len(line)>0: # or if not line.empty\n",
    "        E.append(line.values[0])\n",
    "        R.append(line.values[-1])\n",
    "    else:\n",
    "        E.append(np.NaN)\n",
    "        R.append(np.NaN)\n",
    "dt['Earliest']=E\n",
    "dt['MostRecent']=R"
   ]
  },
  {
   "cell_type": "code",
   "execution_count": 82,
   "metadata": {},
   "outputs": [
    {
     "data": {
      "text/html": [
       "<div>\n",
       "<style scoped>\n",
       "    .dataframe tbody tr th:only-of-type {\n",
       "        vertical-align: middle;\n",
       "    }\n",
       "\n",
       "    .dataframe tbody tr th {\n",
       "        vertical-align: top;\n",
       "    }\n",
       "\n",
       "    .dataframe thead th {\n",
       "        text-align: right;\n",
       "    }\n",
       "</style>\n",
       "<table border=\"1\" class=\"dataframe\">\n",
       "  <thead>\n",
       "    <tr style=\"text-align: right;\">\n",
       "      <th></th>\n",
       "      <th>Actor</th>\n",
       "      <th>Partner</th>\n",
       "      <th>Actor_FIPS</th>\n",
       "      <th>Partner_FIPS</th>\n",
       "      <th>2010</th>\n",
       "      <th>2011</th>\n",
       "      <th>2012</th>\n",
       "      <th>2013</th>\n",
       "      <th>2014</th>\n",
       "      <th>2015</th>\n",
       "      <th>Earliest</th>\n",
       "      <th>MostRecent</th>\n",
       "    </tr>\n",
       "  </thead>\n",
       "  <tbody>\n",
       "    <tr>\n",
       "      <td>185</td>\n",
       "      <td>Albania</td>\n",
       "      <td>Afghanistan</td>\n",
       "      <td>ALB</td>\n",
       "      <td>AFG</td>\n",
       "      <td>236.641077</td>\n",
       "      <td>NaN</td>\n",
       "      <td>17.635051</td>\n",
       "      <td>688.121749</td>\n",
       "      <td>NaN</td>\n",
       "      <td>NaN</td>\n",
       "      <td>236.641077</td>\n",
       "      <td>6.881217e+02</td>\n",
       "    </tr>\n",
       "    <tr>\n",
       "      <td>370</td>\n",
       "      <td>Algeria</td>\n",
       "      <td>Afghanistan</td>\n",
       "      <td>DZA</td>\n",
       "      <td>AFG</td>\n",
       "      <td>NaN</td>\n",
       "      <td>NaN</td>\n",
       "      <td>NaN</td>\n",
       "      <td>NaN</td>\n",
       "      <td>5.159413e+01</td>\n",
       "      <td>1.334689e+04</td>\n",
       "      <td>51.594129</td>\n",
       "      <td>1.334689e+04</td>\n",
       "    </tr>\n",
       "    <tr>\n",
       "      <td>555</td>\n",
       "      <td>Angola</td>\n",
       "      <td>Afghanistan</td>\n",
       "      <td>AGO</td>\n",
       "      <td>AFG</td>\n",
       "      <td>26332.086222</td>\n",
       "      <td>35390.8100</td>\n",
       "      <td>50192.226989</td>\n",
       "      <td>19124.261503</td>\n",
       "      <td>1.750776e+04</td>\n",
       "      <td>2.688103e+04</td>\n",
       "      <td>26332.086222</td>\n",
       "      <td>2.688103e+04</td>\n",
       "    </tr>\n",
       "    <tr>\n",
       "      <td>740</td>\n",
       "      <td>Argentina</td>\n",
       "      <td>Afghanistan</td>\n",
       "      <td>ARG</td>\n",
       "      <td>AFG</td>\n",
       "      <td>NaN</td>\n",
       "      <td>1428.6457</td>\n",
       "      <td>1960.482398</td>\n",
       "      <td>36564.731330</td>\n",
       "      <td>3.598105e+04</td>\n",
       "      <td>4.987119e+02</td>\n",
       "      <td>1428.645700</td>\n",
       "      <td>4.987119e+02</td>\n",
       "    </tr>\n",
       "    <tr>\n",
       "      <td>925</td>\n",
       "      <td>Armenia</td>\n",
       "      <td>Afghanistan</td>\n",
       "      <td>ARM</td>\n",
       "      <td>AFG</td>\n",
       "      <td>1147.203755</td>\n",
       "      <td>0.0000</td>\n",
       "      <td>198.884191</td>\n",
       "      <td>471.686627</td>\n",
       "      <td>0.000000e+00</td>\n",
       "      <td>1.518467e+00</td>\n",
       "      <td>1147.203755</td>\n",
       "      <td>1.518467e+00</td>\n",
       "    </tr>\n",
       "    <tr>\n",
       "      <td>...</td>\n",
       "      <td>...</td>\n",
       "      <td>...</td>\n",
       "      <td>...</td>\n",
       "      <td>...</td>\n",
       "      <td>...</td>\n",
       "      <td>...</td>\n",
       "      <td>...</td>\n",
       "      <td>...</td>\n",
       "      <td>...</td>\n",
       "      <td>...</td>\n",
       "      <td>...</td>\n",
       "      <td>...</td>\n",
       "    </tr>\n",
       "    <tr>\n",
       "      <td>33484</td>\n",
       "      <td>Vanuatu</td>\n",
       "      <td>Zimbabwe</td>\n",
       "      <td>VUT</td>\n",
       "      <td>ZWE</td>\n",
       "      <td>NaN</td>\n",
       "      <td>NaN</td>\n",
       "      <td>NaN</td>\n",
       "      <td>NaN</td>\n",
       "      <td>NaN</td>\n",
       "      <td>NaN</td>\n",
       "      <td>NaN</td>\n",
       "      <td>NaN</td>\n",
       "    </tr>\n",
       "    <tr>\n",
       "      <td>33669</td>\n",
       "      <td>Venezuela</td>\n",
       "      <td>Zimbabwe</td>\n",
       "      <td>VEN</td>\n",
       "      <td>ZWE</td>\n",
       "      <td>6092.991940</td>\n",
       "      <td>28038.4125</td>\n",
       "      <td>27469.935927</td>\n",
       "      <td>27073.376071</td>\n",
       "      <td>NaN</td>\n",
       "      <td>NaN</td>\n",
       "      <td>6092.991940</td>\n",
       "      <td>2.707338e+04</td>\n",
       "    </tr>\n",
       "    <tr>\n",
       "      <td>33854</td>\n",
       "      <td>Vietnam</td>\n",
       "      <td>Zimbabwe</td>\n",
       "      <td>VNM</td>\n",
       "      <td>ZWE</td>\n",
       "      <td>664457.505616</td>\n",
       "      <td>NaN</td>\n",
       "      <td>718124.865405</td>\n",
       "      <td>707757.913898</td>\n",
       "      <td>1.849940e+06</td>\n",
       "      <td>2.592275e+06</td>\n",
       "      <td>664457.505616</td>\n",
       "      <td>2.592275e+06</td>\n",
       "    </tr>\n",
       "    <tr>\n",
       "      <td>34039</td>\n",
       "      <td>Yemen, Republic of</td>\n",
       "      <td>Zimbabwe</td>\n",
       "      <td>YEM</td>\n",
       "      <td>ZWE</td>\n",
       "      <td>NaN</td>\n",
       "      <td>155501.9701</td>\n",
       "      <td>122067.564265</td>\n",
       "      <td>626.710758</td>\n",
       "      <td>NaN</td>\n",
       "      <td>1.064261e+05</td>\n",
       "      <td>155501.970100</td>\n",
       "      <td>1.064261e+05</td>\n",
       "    </tr>\n",
       "    <tr>\n",
       "      <td>34224</td>\n",
       "      <td>Zambia</td>\n",
       "      <td>Zimbabwe</td>\n",
       "      <td>ZMB</td>\n",
       "      <td>ZWE</td>\n",
       "      <td>523983.668714</td>\n",
       "      <td>0.0000</td>\n",
       "      <td>0.000000</td>\n",
       "      <td>0.000000</td>\n",
       "      <td>NaN</td>\n",
       "      <td>4.719869e+05</td>\n",
       "      <td>523983.668714</td>\n",
       "      <td>4.719869e+05</td>\n",
       "    </tr>\n",
       "  </tbody>\n",
       "</table>\n",
       "<p>34410 rows × 12 columns</p>\n",
       "</div>"
      ],
      "text/plain": [
       "                    Actor      Partner Actor_FIPS Partner_FIPS           2010  \\\n",
       "185               Albania  Afghanistan        ALB          AFG     236.641077   \n",
       "370               Algeria  Afghanistan        DZA          AFG            NaN   \n",
       "555                Angola  Afghanistan        AGO          AFG   26332.086222   \n",
       "740             Argentina  Afghanistan        ARG          AFG            NaN   \n",
       "925               Armenia  Afghanistan        ARM          AFG    1147.203755   \n",
       "...                   ...          ...        ...          ...            ...   \n",
       "33484             Vanuatu     Zimbabwe        VUT          ZWE            NaN   \n",
       "33669           Venezuela     Zimbabwe        VEN          ZWE    6092.991940   \n",
       "33854             Vietnam     Zimbabwe        VNM          ZWE  664457.505616   \n",
       "34039  Yemen, Republic of     Zimbabwe        YEM          ZWE            NaN   \n",
       "34224              Zambia     Zimbabwe        ZMB          ZWE  523983.668714   \n",
       "\n",
       "              2011           2012           2013          2014          2015  \\\n",
       "185            NaN      17.635051     688.121749           NaN           NaN   \n",
       "370            NaN            NaN            NaN  5.159413e+01  1.334689e+04   \n",
       "555     35390.8100   50192.226989   19124.261503  1.750776e+04  2.688103e+04   \n",
       "740      1428.6457    1960.482398   36564.731330  3.598105e+04  4.987119e+02   \n",
       "925         0.0000     198.884191     471.686627  0.000000e+00  1.518467e+00   \n",
       "...            ...            ...            ...           ...           ...   \n",
       "33484          NaN            NaN            NaN           NaN           NaN   \n",
       "33669   28038.4125   27469.935927   27073.376071           NaN           NaN   \n",
       "33854          NaN  718124.865405  707757.913898  1.849940e+06  2.592275e+06   \n",
       "34039  155501.9701  122067.564265     626.710758           NaN  1.064261e+05   \n",
       "34224       0.0000       0.000000       0.000000           NaN  4.719869e+05   \n",
       "\n",
       "            Earliest    MostRecent  \n",
       "185       236.641077  6.881217e+02  \n",
       "370        51.594129  1.334689e+04  \n",
       "555     26332.086222  2.688103e+04  \n",
       "740      1428.645700  4.987119e+02  \n",
       "925      1147.203755  1.518467e+00  \n",
       "...              ...           ...  \n",
       "33484            NaN           NaN  \n",
       "33669    6092.991940  2.707338e+04  \n",
       "33854  664457.505616  2.592275e+06  \n",
       "34039  155501.970100  1.064261e+05  \n",
       "34224  523983.668714  4.719869e+05  \n",
       "\n",
       "[34410 rows x 12 columns]"
      ]
     },
     "execution_count": 82,
     "metadata": {},
     "output_type": "execute_result"
    }
   ],
   "source": [
    "dt"
   ]
  },
  {
   "cell_type": "code",
   "execution_count": null,
   "metadata": {},
   "outputs": [],
   "source": []
  }
 ],
 "metadata": {
  "kernelspec": {
   "display_name": "Python 3",
   "language": "python",
   "name": "python3"
  },
  "language_info": {
   "codemirror_mode": {
    "name": "ipython",
    "version": 3
   },
   "file_extension": ".py",
   "mimetype": "text/x-python",
   "name": "python",
   "nbconvert_exporter": "python",
   "pygments_lexer": "ipython3",
   "version": "3.7.4"
  }
 },
 "nbformat": 4,
 "nbformat_minor": 2
}
